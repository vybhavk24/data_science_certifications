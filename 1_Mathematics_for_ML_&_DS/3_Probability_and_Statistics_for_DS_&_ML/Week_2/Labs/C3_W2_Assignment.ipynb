{
 "cells": [
  {
   "cell_type": "markdown",
   "id": "4caafec3",
   "metadata": {},
   "source": [
    "# Loaded dice \n",
    "\n",
    "Welcome to the second assignment in the course Probability and Statistics for Machine Learning and Data Science! In this quiz-like assignment you will test your intuition about the concepts covered in the lectures by taking the example with the dice to the next level. \n",
    "\n",
    "**This assignment can be completed with just pencil and paper, or even your intuition about probability, but in many questions using the skills you're developing as a programmer may help**. "
   ]
  },
  {
   "cell_type": "markdown",
   "id": "3bff9c20",
   "metadata": {},
   "source": [
    "## 1 - Introduction\n",
    "\n",
    "You will be presented with 11 questions regarding a several dice games. Sometimes the dice is loaded, sometimes it is not. You will have clear instructions for each exercise.\n",
    "\n",
    "### 1.1 How to go through the assignment\n",
    "\n",
    "In each exercise you there will be a question about throwing some dice that may or may not be loaded. You will have to answer questions about the results of each scenario, such as calculating the expected value of the dice throw or selecting the graph that best represents the distribution of outcomes. \n",
    "\n",
    "In any case, **you will be able to solve the exercise with one of the following methods:**\n",
    "\n",
    "- **By hand:** You may make your calculations by hand, using the theory you have developed in the lectures.\n",
    "- **Using Python:** You may use the empty block of code provided to make computations and simulations, to obtain the result.\n",
    "\n",
    "After each exercise you will save your solution by running a special code cell and adding your answer. The cells contain a single line of code in the format `utils.exercise_1()` which will launch the interface in which you can save your answer. **You will save your responses to each exercise as you go, but you won't submit all your responses for grading until you submit this assignment at the end.**\n",
    "\n",
    "Let's go over an example! Before, let's import the necessary libraries."
   ]
  },
  {
   "cell_type": "markdown",
   "id": "3d256624",
   "metadata": {},
   "source": [
    "## 2 - Importing the libraries"
   ]
  },
  {
   "cell_type": "code",
   "execution_count": 1,
   "id": "da0fcf2f",
   "metadata": {},
   "outputs": [],
   "source": [
    "import numpy as np\n",
    "import pandas as pd\n",
    "import seaborn as sns\n",
    "import matplotlib.pyplot as plt\n",
    "import utils"
   ]
  },
  {
   "cell_type": "markdown",
   "id": "e1637bc9",
   "metadata": {},
   "source": [
    "## 3 - A worked example on how to complete this assignment.\n",
    "\n",
    "Now let's go over one example question, so you understand how to go through the assignment.\n",
    "\n",
    "### 3.1 Example question\n",
    "\n",
    "Question: Given a 6-sided fair dice, you throw it two times and save the result. What is the probability that the sum of your two throws is greater than 5? (Give your result with 1 decimal place).\n",
    "\n",
    "After the question, you will see the following block of code."
   ]
  },
  {
   "cell_type": "code",
   "execution_count": 2,
   "id": "c789233e",
   "metadata": {},
   "outputs": [],
   "source": [
    "# You can use this cell for your calculations (not graded)\n"
   ]
  },
  {
   "cell_type": "markdown",
   "id": "02528065",
   "metadata": {},
   "source": [
    "You may use it as you wish to solve the exercise. Or you can just ignore it and use pencil and pen to solve. It is up to you! **You will only save your final answer**. \n",
    "\n",
    "### 3.2 Solving using simulations in Python\n",
    "\n",
    "Let's solve this question in both ways. First, using Python. You may check the ungraded lab Dice Simulations that appears right before this assignment to help you simulate dice throws. Remember that, to get a good approximation, you need to simulate it a lot of times! You will see why this is true in the following weeks, but this is quite intuitive."
   ]
  },
  {
   "cell_type": "code",
   "execution_count": 3,
   "id": "309a3457",
   "metadata": {},
   "outputs": [
    {
     "name": "stdout",
     "output_type": "stream",
     "text": [
      "The probability by this simulation is: 0.719\n"
     ]
    }
   ],
   "source": [
    "# You can use this cell for your calculations (not graded)\n",
    "\n",
    "# This list represents each dice side\n",
    "dice = [1,2,3,4,5,6]\n",
    "\n",
    "# The idea is to randomly choose one element from this list three times and sum them. \n",
    "# Each time we choose, it is as if we had thrown a dice and the side is the chosen number.\n",
    "# This list will store the sum for each iteration. The idea is to repeat this experiment several times.\n",
    "sum_results = []\n",
    "\n",
    "number_iterations = 1000\n",
    "\n",
    "# Setting a random seed just for reproducibility\n",
    "np.random.seed(42)\n",
    "# It will play this game number_iteration times\n",
    "for i in range(number_iterations):\n",
    "    # Throw the first dice\n",
    "    throw_1 = np.random.choice(dice)\n",
    "    # Throw the second dice\n",
    "    throw_2 = np.random.choice(dice)\n",
    "    # Sum the result\n",
    "    sum_throw = throw_1 + throw_2\n",
    "    # Append to the sum_result list\n",
    "    sum_results.append(sum_throw)\n",
    "\n",
    "# After recording all the sums, the actual probability will be very close to the proportion among every sum greater than 10 in the sum_results list.\n",
    "greater_5_count = 0\n",
    "\n",
    "for x in sum_results:\n",
    "    if x > 5:\n",
    "        greater_5_count += 1\n",
    "\n",
    "probability = greater_5_count/len(sum_results)    \n",
    "print(f\"The probability by this simulation is: {probability}\")"
   ]
  },
  {
   "cell_type": "markdown",
   "id": "37524317",
   "metadata": {},
   "source": [
    "So the result you would get, rounding in to decimal place, would be 0.7! Let's solve it \"by hand\".\n",
    "\n",
    "### 3.3 Solving using the theory\n",
    "\n",
    "When throwing two dice, there are $36$ possible outcomes:\n",
    "\n",
    "$$(1,1), (1,2), \\ldots, (6,6)$$\n",
    "\n",
    "You must count how many of them lead to a sum greater than 5. They are:\n",
    "\n",
    "* If the first throw is $1$, there are $2$ possibilities for the second throw: 5 or 6.\n",
    "* If the first throw is $2$, there are $3$ possibilities for the second throw: 4, 5 or 6.\n",
    "* If the first throw is $3$, there are $4$ possibilities for the second throw: 3, 4, 5 or 6.\n",
    "* If the first throw is $4$, there are $5$ possibilities for the second throw: 2, 3, 4, 5 or 6.\n",
    "* If the first throw is $5$, there are $6$ possibilities for the second throw: 1, 2, 3, 4, 5 or 6.\n",
    "* If the first throw is $6$, there are $6$ possibilities for the second throw: 1, 2, 3, 4, 5 or 6.\n",
    "\n",
    "So, in total there are $2 + 3 + 4 + 5 + 6 + 6 = 26$, possibilities that sum greater than 5.\n",
    "\n",
    "The probability is then $\\frac{26}{36} \\approx 0.72$. Rounding it to 1 decimal place, the result is also 0.7!\n"
   ]
  },
  {
   "cell_type": "markdown",
   "id": "29b9f3ed",
   "metadata": {},
   "source": [
    "### 3.4 Saving your answer\n",
    "\n",
    "Once you get your answer in hands, it is time to save it. Run the next code below to see what it will look like. You just add your answer as requested and click on \"Save your answer!\""
   ]
  },
  {
   "cell_type": "code",
   "execution_count": 4,
   "id": "38539358",
   "metadata": {},
   "outputs": [
    {
     "data": {
      "application/vnd.jupyter.widget-view+json": {
       "model_id": "5576f1638e3c4157bcb00032167253bc",
       "version_major": 2,
       "version_minor": 0
      },
      "text/plain": [
       "FloatText(value=0.0, description='Probability:')"
      ]
     },
     "metadata": {},
     "output_type": "display_data"
    },
    {
     "data": {
      "application/vnd.jupyter.widget-view+json": {
       "model_id": "34ecbe926b8e42279273ef2079598058",
       "version_major": 2,
       "version_minor": 0
      },
      "text/plain": [
       "Button(button_style='success', description='Save your answer!', style=ButtonStyle())"
      ]
     },
     "metadata": {},
     "output_type": "display_data"
    },
    {
     "data": {
      "application/vnd.jupyter.widget-view+json": {
       "model_id": "d03a035e46284721a6dd1582add170ae",
       "version_major": 2,
       "version_minor": 0
      },
      "text/plain": [
       "Output()"
      ]
     },
     "metadata": {},
     "output_type": "display_data"
    }
   ],
   "source": [
    "utils.exercise_example()"
   ]
  },
  {
   "cell_type": "markdown",
   "id": "73d4776c",
   "metadata": {},
   "source": [
    "And that's it! Once you save one question, you can go to the next one. If you want to change your solution, just run the code again and input the new solution, it will overwrite the previous one. At the end of the assignment, you will be able to check if you have forgotten to save any question. \n",
    "\n",
    "Once you finish the assignment, you may submit it as you usually would. Your most recently save answers to each exercise will then be graded."
   ]
  },
  {
   "cell_type": "markdown",
   "id": "4546a127",
   "metadata": {},
   "source": [
    "## 4 - Some concept clarifications 🎲🎲🎲\n",
    "\n",
    "During this assignment you will be presented with various scenarios that involve dice. Usually dice can have different numbers of sides and can be either fair or loaded.\n",
    "\n",
    "- A fair dice has equal probability of landing on every side.\n",
    "- A loaded dice does not have equal probability of landing on every side. Usually one (or more) sides have a greater probability of showing up than the rest.\n",
    "\n",
    "Alright, that's all your need to know to complete this assignment. Time to start rolling some dice!"
   ]
  },
  {
   "cell_type": "markdown",
   "id": "c8f09f02",
   "metadata": {},
   "source": [
    "## Exercise 1:\n",
    "\n"
   ]
  },
  {
   "cell_type": "markdown",
   "id": "3510c610",
   "metadata": {},
   "source": [
    "Given a 6-sided fair dice (all of the sides have equal probability of showing up), compute the mean and variance for the probability distribution that models said dice. The next figure shows you a visual represenatation of said distribution:\n",
    "\n",
    "<img src=\"./images/fair_dice.png\" style=\"height: 300px;\"/>\n",
    "\n",
    "**Submission considerations:**\n",
    "- Submit your answers as floating point numbers with three digits after the decimal point\n",
    "- Example: To submit the value of 1/4 enter 0.250"
   ]
  },
  {
   "cell_type": "markdown",
   "id": "5ee9b479",
   "metadata": {},
   "source": [
    "Hints: \n",
    "- You can use [np.random.choice](https://numpy.org/doc/stable/reference/random/generated/numpy.random.choice.html) to simulate a fair dice.\n",
    "- You can use [np.mean](https://numpy.org/doc/stable/reference/generated/numpy.mean.html) and [np.var](https://numpy.org/doc/stable/reference/generated/numpy.var.html) to compute the mean and variance of a numpy array."
   ]
  },
  {
   "cell_type": "code",
   "execution_count": null,
   "id": "df437e8e",
   "metadata": {},
   "outputs": [],
   "source": [
    "# You can use this cell for your calculations (not graded)\n",
    "\n"
   ]
  },
  {
   "cell_type": "code",
   "execution_count": 5,
   "id": "db9477e7",
   "metadata": {},
   "outputs": [
    {
     "data": {
      "application/vnd.jupyter.widget-view+json": {
       "model_id": "c150dae66fe94ff9ba18f3726101835b",
       "version_major": 2,
       "version_minor": 0
      },
      "text/plain": [
       "FloatText(value=0.0, description='Mean:')"
      ]
     },
     "metadata": {},
     "output_type": "display_data"
    },
    {
     "data": {
      "application/vnd.jupyter.widget-view+json": {
       "model_id": "0cbec7aaf85f4396a607c251e441241d",
       "version_major": 2,
       "version_minor": 0
      },
      "text/plain": [
       "FloatText(value=0.0, description='Variance:')"
      ]
     },
     "metadata": {},
     "output_type": "display_data"
    },
    {
     "data": {
      "application/vnd.jupyter.widget-view+json": {
       "model_id": "be3d64e49a8240409a87292222f71df1",
       "version_major": 2,
       "version_minor": 0
      },
      "text/plain": [
       "Button(button_style='success', description='Save your answer!', style=ButtonStyle())"
      ]
     },
     "metadata": {},
     "output_type": "display_data"
    },
    {
     "data": {
      "application/vnd.jupyter.widget-view+json": {
       "model_id": "d499aee486f040c29fa969602ecd1f5b",
       "version_major": 2,
       "version_minor": 0
      },
      "text/plain": [
       "Output()"
      ]
     },
     "metadata": {},
     "output_type": "display_data"
    }
   ],
   "source": [
    "# Run this cell to submit your answer\n",
    "utils.exercise_1()"
   ]
  },
  {
   "cell_type": "markdown",
   "id": "d43dcbbd",
   "metadata": {},
   "source": [
    "## Exercise 2:\n",
    "\n",
    "Now suppose you are throwing the dice (same dice as in the previous exercise) two times and recording the sum of each throw. Which of the following `probability mass functions` will be the one you should get?\n",
    "\n",
    "<table><tr>\n",
    "<td> <img src=\"./images/hist_sum_6_side.png\" style=\"height: 300px;\"/> </td>\n",
    "<td> <img src=\"./images/hist_sum_5_side.png\" style=\"height: 300px;\"/> </td>\n",
    "<td> <img src=\"./images/hist_sum_6_uf.png\" style=\"height: 300px;\"/> </td>\n",
    "</tr></table>\n"
   ]
  },
  {
   "cell_type": "markdown",
   "id": "605c58c0",
   "metadata": {},
   "source": [
    "Hints: \n",
    "- You can use numpy arrays to hold the results of many throws.\n",
    "- You can sum to numpy arrays by using the `+` operator like this: `sum = first_throw + second_throw`\n",
    "- To simulate multiple throws of a dice you can use list comprehension or a for loop"
   ]
  },
  {
   "cell_type": "code",
   "execution_count": null,
   "id": "e9a8b2ed",
   "metadata": {},
   "outputs": [],
   "source": [
    "# You can use this cell for your calculations (not graded)\n",
    "\n"
   ]
  },
  {
   "cell_type": "code",
   "execution_count": 6,
   "id": "d4d5dcf9",
   "metadata": {},
   "outputs": [
    {
     "data": {
      "application/vnd.jupyter.widget-view+json": {
       "model_id": "441bc5737fe4440e8c1f287c0b1d5c3d",
       "version_major": 2,
       "version_minor": 0
      },
      "text/plain": [
       "ToggleButtons(description='Your answer:', options=('left', 'center', 'right'), value='left')"
      ]
     },
     "metadata": {},
     "output_type": "display_data"
    },
    {
     "data": {
      "application/vnd.jupyter.widget-view+json": {
       "model_id": "7bd3898bd24049cdb1dfd29caee4339e",
       "version_major": 2,
       "version_minor": 0
      },
      "text/plain": [
       "Button(button_style='success', description='Save your answer!', style=ButtonStyle())"
      ]
     },
     "metadata": {},
     "output_type": "display_data"
    },
    {
     "data": {
      "application/vnd.jupyter.widget-view+json": {
       "model_id": "0756f67200d7488184b45eb692b67cc6",
       "version_major": 2,
       "version_minor": 0
      },
      "text/plain": [
       "Output()"
      ]
     },
     "metadata": {},
     "output_type": "display_data"
    }
   ],
   "source": [
    "# Run this cell to submit your answer\n",
    "utils.exercise_2()"
   ]
  },
  {
   "cell_type": "markdown",
   "id": "adfb889c",
   "metadata": {},
   "source": [
    "## Exercise 3:\n",
    "\n",
    "Given a fair 4-sided dice, you throw it two times and record the sum. The figure on the left shows the probabilities of the dice landing on each side and the right figure the histogram of the sum. Fill out the probabilities of each sum (notice that the distribution of the sum is symetrical so you only need to input 4 values in total):\n",
    "\n",
    "<img src=\"./images/4_side_hists.png\" style=\"height: 300px;\"/>\n",
    "\n",
    "**Submission considerations:**\n",
    "- Submit your answers as floating point numbers with three digits after the decimal point\n",
    "- Example: To submit the value of 1/4 enter 0.250"
   ]
  },
  {
   "cell_type": "code",
   "execution_count": null,
   "id": "342ca685",
   "metadata": {},
   "outputs": [],
   "source": [
    "# You can use this cell for your calculations (not graded)\n",
    "\n"
   ]
  },
  {
   "cell_type": "code",
   "execution_count": 7,
   "id": "e0a24beb",
   "metadata": {},
   "outputs": [
    {
     "data": {
      "application/vnd.jupyter.widget-view+json": {
       "model_id": "3aaebf7d15dc4f3f85ed9baf28db847d",
       "version_major": 2,
       "version_minor": 0
      },
      "text/plain": [
       "FloatText(value=0.0, description='P for sum=2', style=DescriptionStyle(description_width='initial'))"
      ]
     },
     "metadata": {},
     "output_type": "display_data"
    },
    {
     "data": {
      "application/vnd.jupyter.widget-view+json": {
       "model_id": "77a284cca4184f6bae112ae514da6668",
       "version_major": 2,
       "version_minor": 0
      },
      "text/plain": [
       "FloatText(value=0.0, description='P for sum=3:', style=DescriptionStyle(description_width='initial'))"
      ]
     },
     "metadata": {},
     "output_type": "display_data"
    },
    {
     "data": {
      "application/vnd.jupyter.widget-view+json": {
       "model_id": "c94634610f7645629549d2a927d3a4cd",
       "version_major": 2,
       "version_minor": 0
      },
      "text/plain": [
       "FloatText(value=0.0, description='P for sum=4:', style=DescriptionStyle(description_width='initial'))"
      ]
     },
     "metadata": {},
     "output_type": "display_data"
    },
    {
     "data": {
      "application/vnd.jupyter.widget-view+json": {
       "model_id": "7fae7466416d400cba2faf7e26204bf2",
       "version_major": 2,
       "version_minor": 0
      },
      "text/plain": [
       "FloatText(value=0.0, description='P for sum=5:', style=DescriptionStyle(description_width='initial'))"
      ]
     },
     "metadata": {},
     "output_type": "display_data"
    },
    {
     "data": {
      "application/vnd.jupyter.widget-view+json": {
       "model_id": "70448e55828c4feb95b04ec6cf203e77",
       "version_major": 2,
       "version_minor": 0
      },
      "text/plain": [
       "Button(button_style='success', description='Save your answer!', style=ButtonStyle())"
      ]
     },
     "metadata": {},
     "output_type": "display_data"
    },
    {
     "data": {
      "application/vnd.jupyter.widget-view+json": {
       "model_id": "29bfde0027dd482fa21d3846cf41d427",
       "version_major": 2,
       "version_minor": 0
      },
      "text/plain": [
       "Output()"
      ]
     },
     "metadata": {},
     "output_type": "display_data"
    }
   ],
   "source": [
    "# Run this cell to submit your answer\n",
    "utils.exercise_3()"
   ]
  },
  {
   "cell_type": "markdown",
   "id": "108837bd",
   "metadata": {},
   "source": [
    "## Exercise 4:\n",
    "\n",
    "Using the same scenario as in the previous exercise. Compute the mean and variance of the sum of the two throws  and the covariance between the first and the second throw:\n",
    "\n",
    "<img src=\"./images/4_sided_hist_no_prob.png\" style=\"height: 300px;\"/>\n",
    "\n",
    "\n",
    "Hints:\n",
    "- You can use [np.cov](https://numpy.org/doc/stable/reference/generated/numpy.cov.html) to compute the covariance of two numpy arrays (this may not be needed for this particular exercise)."
   ]
  },
  {
   "cell_type": "code",
   "execution_count": null,
   "id": "f4eadc3c",
   "metadata": {},
   "outputs": [],
   "source": [
    "# You can use this cell for your calculations (not graded)\n",
    "\n"
   ]
  },
  {
   "cell_type": "code",
   "execution_count": 8,
   "id": "4e662b9b",
   "metadata": {},
   "outputs": [
    {
     "data": {
      "application/vnd.jupyter.widget-view+json": {
       "model_id": "dc82af5c1d314a29aee2271c430de1a2",
       "version_major": 2,
       "version_minor": 0
      },
      "text/plain": [
       "FloatText(value=0.0, description='Mean:')"
      ]
     },
     "metadata": {},
     "output_type": "display_data"
    },
    {
     "data": {
      "application/vnd.jupyter.widget-view+json": {
       "model_id": "ef939dfe43a34c3facc5abd245f9bc36",
       "version_major": 2,
       "version_minor": 0
      },
      "text/plain": [
       "FloatText(value=0.0, description='Variance:')"
      ]
     },
     "metadata": {},
     "output_type": "display_data"
    },
    {
     "data": {
      "application/vnd.jupyter.widget-view+json": {
       "model_id": "32f7160b55c0420e8871ad07d33ed950",
       "version_major": 2,
       "version_minor": 0
      },
      "text/plain": [
       "FloatText(value=0.0, description='Covariance:')"
      ]
     },
     "metadata": {},
     "output_type": "display_data"
    },
    {
     "data": {
      "application/vnd.jupyter.widget-view+json": {
       "model_id": "bea5994f6762485c9edc77fd3606b071",
       "version_major": 2,
       "version_minor": 0
      },
      "text/plain": [
       "Button(button_style='success', description='Save your answer!', style=ButtonStyle())"
      ]
     },
     "metadata": {},
     "output_type": "display_data"
    },
    {
     "data": {
      "application/vnd.jupyter.widget-view+json": {
       "model_id": "870bf3bb2f974e8c8b51a63c3b1e7fcc",
       "version_major": 2,
       "version_minor": 0
      },
      "text/plain": [
       "Output()"
      ]
     },
     "metadata": {},
     "output_type": "display_data"
    }
   ],
   "source": [
    "# Run this cell to submit your answer\n",
    "utils.exercise_4()"
   ]
  },
  {
   "cell_type": "markdown",
   "id": "714e099b",
   "metadata": {},
   "source": [
    "## Exercise 5:\n",
    "\n",
    "\n",
    "Now suppose you are have a loaded 4-sided dice (it is loaded so that it lands twice as often on side 2 compared to the other sides): \n",
    "\n",
    "\n",
    "<img src=\"./images/4_side_uf.png\" style=\"height: 300px;\"/>\n",
    "\n",
    "You are throwing it two times and recording the sum of each throw. Which of the following `probability mass functions` will be the one you should get?\n",
    "\n",
    "<table><tr>\n",
    "<td> <img src=\"./images/hist_sum_4_4l.png\" style=\"height: 300px;\"/> </td>\n",
    "<td> <img src=\"./images/hist_sum_4_3l.png\" style=\"height: 300px;\"/> </td>\n",
    "<td> <img src=\"./images/hist_sum_4_uf.png\" style=\"height: 300px;\"/> </td>\n",
    "</tr></table>"
   ]
  },
  {
   "cell_type": "markdown",
   "id": "ecb27c1b",
   "metadata": {},
   "source": [
    "Hints: \n",
    "- You can use the `p` parameter of [np.random.choice](https://numpy.org/doc/stable/reference/random/generated/numpy.random.choice.html) to simulate a loaded dice."
   ]
  },
  {
   "cell_type": "code",
   "execution_count": null,
   "id": "a35573ec",
   "metadata": {},
   "outputs": [],
   "source": [
    "# You can use this cell for your calculations (not graded)\n",
    "\n"
   ]
  },
  {
   "cell_type": "code",
   "execution_count": 9,
   "id": "3104e647",
   "metadata": {},
   "outputs": [
    {
     "data": {
      "application/vnd.jupyter.widget-view+json": {
       "model_id": "6eda840e41c34f13bdff3f9c3ee5dcd7",
       "version_major": 2,
       "version_minor": 0
      },
      "text/plain": [
       "ToggleButtons(description='Your answer:', options=('left', 'center', 'right'), value='left')"
      ]
     },
     "metadata": {},
     "output_type": "display_data"
    },
    {
     "data": {
      "application/vnd.jupyter.widget-view+json": {
       "model_id": "4659a5719cf9438e9b0757cd2aa841b8",
       "version_major": 2,
       "version_minor": 0
      },
      "text/plain": [
       "Button(button_style='success', description='Save your answer!', style=ButtonStyle())"
      ]
     },
     "metadata": {},
     "output_type": "display_data"
    },
    {
     "data": {
      "application/vnd.jupyter.widget-view+json": {
       "model_id": "77dac38b54a345008e97bcf6567ba479",
       "version_major": 2,
       "version_minor": 0
      },
      "text/plain": [
       "Output()"
      ]
     },
     "metadata": {},
     "output_type": "display_data"
    }
   ],
   "source": [
    "# Run this cell to submit your answer\n",
    "utils.exercise_5()"
   ]
  },
  {
   "cell_type": "markdown",
   "id": "0d0f3429",
   "metadata": {},
   "source": [
    "## Exercise 6:\n",
    "\n",
    "You have a 6-sided dice that is loaded so that it lands twice as often on side 3 compared to the other sides:\n",
    "\n",
    "<img src=\"./images/loaded_6_side.png\" style=\"height: 300px;\"/>\n",
    "\n",
    "You record the sum of throwing it twice. What is the highest value (of the sum) that will yield a cumulative probability lower or equal to 0.5?\n",
    "\n",
    "<img src=\"./images/loaded_6_cdf.png\" style=\"height: 300px;\"/>\n",
    "\n",
    "Hints:\n",
    "- The probability of side 3 is equal to $\\frac{2}{7}$"
   ]
  },
  {
   "cell_type": "code",
   "execution_count": null,
   "id": "10feaaa8",
   "metadata": {},
   "outputs": [],
   "source": [
    "# You can use this cell for your calculations (not graded)\n",
    "\n"
   ]
  },
  {
   "cell_type": "code",
   "execution_count": 10,
   "id": "963e5763",
   "metadata": {},
   "outputs": [
    {
     "data": {
      "application/vnd.jupyter.widget-view+json": {
       "model_id": "8be9924ca0884b09bd404639ecb87462",
       "version_major": 2,
       "version_minor": 0
      },
      "text/plain": [
       "IntSlider(value=2, continuous_update=False, description='Sum:', max=12, min=2)"
      ]
     },
     "metadata": {},
     "output_type": "display_data"
    },
    {
     "data": {
      "application/vnd.jupyter.widget-view+json": {
       "model_id": "8eec1ea75d6646dabaf6d1299cbd94c5",
       "version_major": 2,
       "version_minor": 0
      },
      "text/plain": [
       "Button(button_style='success', description='Save your answer!', style=ButtonStyle())"
      ]
     },
     "metadata": {},
     "output_type": "display_data"
    },
    {
     "data": {
      "application/vnd.jupyter.widget-view+json": {
       "model_id": "4baaafc62bb942ff921090442c540a50",
       "version_major": 2,
       "version_minor": 0
      },
      "text/plain": [
       "Output()"
      ]
     },
     "metadata": {},
     "output_type": "display_data"
    }
   ],
   "source": [
    "# Run this cell to submit your answer\n",
    "utils.exercise_6()"
   ]
  },
  {
   "cell_type": "markdown",
   "id": "f6684426",
   "metadata": {},
   "source": [
    "## Exercise 7:\n",
    "\n",
    "Given a 6-sided fair dice you try a new game. You only throw the dice a second time if the result of the first throw is **lower** or equal to 3. Which of the following `probability mass functions` will be the one you should get given this new constraint?\n",
    "\n",
    "<table><tr>\n",
    "<td> <img src=\"./images/6_sided_cond_green.png\" style=\"height: 250px;\"/> </td>\n",
    "<td> <img src=\"./images/6_sided_cond_blue.png\" style=\"height: 250px;\"/> </td>\n",
    "<td> <img src=\"./images/6_sided_cond_red.png\" style=\"height: 250px;\"/> </td>\n",
    "<td> <img src=\"./images/6_sided_cond_brown.png\" style=\"height: 250px;\"/> </td>\n",
    "\n",
    "</tr></table>\n",
    "\n",
    "Hints:\n",
    "- You can simulate the second throws as a numpy array and then make the values that met a certain criteria equal to 0 by using [np.where](https://numpy.org/doc/stable/reference/generated/numpy.where.html)"
   ]
  },
  {
   "cell_type": "code",
   "execution_count": null,
   "id": "9e64d178",
   "metadata": {},
   "outputs": [],
   "source": [
    "# You can use this cell for your calculations (not graded)\n",
    "\n"
   ]
  },
  {
   "cell_type": "code",
   "execution_count": 11,
   "id": "82a4db40",
   "metadata": {},
   "outputs": [
    {
     "data": {
      "application/vnd.jupyter.widget-view+json": {
       "model_id": "9d97250950684f26b883f3db6a8f5623",
       "version_major": 2,
       "version_minor": 0
      },
      "text/plain": [
       "ToggleButtons(description='Your answer:', options=('left-most', 'left-center', 'right-center', 'right-most'), …"
      ]
     },
     "metadata": {},
     "output_type": "display_data"
    },
    {
     "data": {
      "application/vnd.jupyter.widget-view+json": {
       "model_id": "3174ae5ebabc46189c71025fc4d4785b",
       "version_major": 2,
       "version_minor": 0
      },
      "text/plain": [
       "Button(button_style='success', description='Save your answer!', style=ButtonStyle())"
      ]
     },
     "metadata": {},
     "output_type": "display_data"
    },
    {
     "data": {
      "application/vnd.jupyter.widget-view+json": {
       "model_id": "023f6ec029c24189bb1be6ed8dc5eadd",
       "version_major": 2,
       "version_minor": 0
      },
      "text/plain": [
       "Output()"
      ]
     },
     "metadata": {},
     "output_type": "display_data"
    }
   ],
   "source": [
    "# Run this cell to submit your answer\n",
    "utils.exercise_7()"
   ]
  },
  {
   "cell_type": "markdown",
   "id": "ba973eaf",
   "metadata": {},
   "source": [
    "## Exercise 8:\n",
    "\n",
    "Given the same scenario as in the previous exercise but with the twist that you only throw the dice a second time if the result of the first throw is **greater** or equal to 3. Which of the following `probability mass functions` will be the one you should get given this new constraint?\n",
    "\n",
    "<table><tr>\n",
    "<td> <img src=\"./images/6_sided_cond_green2.png\" style=\"height: 250px;\"/> </td>\n",
    "<td> <img src=\"./images/6_sided_cond_blue2.png\" style=\"height: 250px;\"/> </td>\n",
    "<td> <img src=\"./images/6_sided_cond_red2.png\" style=\"height: 250px;\"/> </td>\n",
    "<td> <img src=\"./images/6_sided_cond_brown2.png\" style=\"height: 250px;\"/> </td>\n",
    "\n",
    "</tr></table>\n"
   ]
  },
  {
   "cell_type": "code",
   "execution_count": null,
   "id": "4d25300f",
   "metadata": {},
   "outputs": [],
   "source": [
    "# You can use this cell for your calculations (not graded)\n",
    "\n"
   ]
  },
  {
   "cell_type": "code",
   "execution_count": 12,
   "id": "33bb9fd2",
   "metadata": {},
   "outputs": [
    {
     "data": {
      "application/vnd.jupyter.widget-view+json": {
       "model_id": "ef32ce6b6677473fb4b5c976ad177de3",
       "version_major": 2,
       "version_minor": 0
      },
      "text/plain": [
       "ToggleButtons(description='Your answer:', options=('left-most', 'left-center', 'right-center', 'right-most'), …"
      ]
     },
     "metadata": {},
     "output_type": "display_data"
    },
    {
     "data": {
      "application/vnd.jupyter.widget-view+json": {
       "model_id": "9a95233b79974905a30899a4228ba498",
       "version_major": 2,
       "version_minor": 0
      },
      "text/plain": [
       "Button(button_style='success', description='Save your answer!', style=ButtonStyle())"
      ]
     },
     "metadata": {},
     "output_type": "display_data"
    },
    {
     "data": {
      "application/vnd.jupyter.widget-view+json": {
       "model_id": "85301dab39d94506864fdc2624a9e60e",
       "version_major": 2,
       "version_minor": 0
      },
      "text/plain": [
       "Output()"
      ]
     },
     "metadata": {},
     "output_type": "display_data"
    }
   ],
   "source": [
    "# Run this cell to submit your answer\n",
    "utils.exercise_8()"
   ]
  },
  {
   "cell_type": "markdown",
   "id": "017e9b22",
   "metadata": {},
   "source": [
    "## Exercise 9:\n",
    "\n",
    "Given a n-sided fair dice. You throw it twice and record the sum. How does increasing the number of sides `n` of the dice impact the mean and variance of the sum and the covariance of the joint distribution?"
   ]
  },
  {
   "cell_type": "code",
   "execution_count": null,
   "id": "645a9b74",
   "metadata": {},
   "outputs": [],
   "source": [
    "# You can use this cell for your calculations (not graded)\n",
    "\n"
   ]
  },
  {
   "cell_type": "code",
   "execution_count": 13,
   "id": "907412da",
   "metadata": {},
   "outputs": [
    {
     "name": "stdout",
     "output_type": "stream",
     "text": [
      "As the number of sides in the die increases:\n"
     ]
    },
    {
     "data": {
      "application/vnd.jupyter.widget-view+json": {
       "model_id": "02bfb7485a364ba18427148e45329b5b",
       "version_major": 2,
       "version_minor": 0
      },
      "text/plain": [
       "ToggleButtons(description='The mean of the sum:', options=('stays the same', 'increases', 'decreases'), value=…"
      ]
     },
     "metadata": {},
     "output_type": "display_data"
    },
    {
     "data": {
      "application/vnd.jupyter.widget-view+json": {
       "model_id": "d5ce5e7321fb4aaba8f22b4fceddd8c4",
       "version_major": 2,
       "version_minor": 0
      },
      "text/plain": [
       "ToggleButtons(description='The variance of the sum:', options=('stays the same', 'increases', 'decreases'), va…"
      ]
     },
     "metadata": {},
     "output_type": "display_data"
    },
    {
     "data": {
      "application/vnd.jupyter.widget-view+json": {
       "model_id": "099c2ffe351e43e982b4bbc8e0ff0ab0",
       "version_major": 2,
       "version_minor": 0
      },
      "text/plain": [
       "ToggleButtons(description='The covariance of the joint distribution:', options=('stays the same', 'increases',…"
      ]
     },
     "metadata": {},
     "output_type": "display_data"
    },
    {
     "data": {
      "application/vnd.jupyter.widget-view+json": {
       "model_id": "63924454164946ee8c85d3190e09cf11",
       "version_major": 2,
       "version_minor": 0
      },
      "text/plain": [
       "Button(button_style='success', description='Save your answer!', style=ButtonStyle())"
      ]
     },
     "metadata": {},
     "output_type": "display_data"
    },
    {
     "data": {
      "application/vnd.jupyter.widget-view+json": {
       "model_id": "c851adecbb4e4c518776c75b5f537597",
       "version_major": 2,
       "version_minor": 0
      },
      "text/plain": [
       "Output()"
      ]
     },
     "metadata": {},
     "output_type": "display_data"
    }
   ],
   "source": [
    "# Run this cell to submit your answer\n",
    "utils.exercise_9()"
   ]
  },
  {
   "cell_type": "markdown",
   "id": "fcf9b3ac",
   "metadata": {},
   "source": [
    "## Exercise 10:\n",
    "\n",
    "Given a 6-sided loaded dice. You throw it twice and record the sum. Which of the following statemets is true?"
   ]
  },
  {
   "cell_type": "code",
   "execution_count": null,
   "id": "008c5858",
   "metadata": {},
   "outputs": [],
   "source": [
    "# You can use this cell for your calculations (not graded)\n",
    "\n"
   ]
  },
  {
   "cell_type": "code",
   "execution_count": 14,
   "id": "99373567",
   "metadata": {},
   "outputs": [
    {
     "data": {
      "application/vnd.jupyter.widget-view+json": {
       "model_id": "d009c867202541bdb126e77072993459",
       "version_major": 2,
       "version_minor": 0
      },
      "text/plain": [
       "RadioButtons(layout=Layout(width='max-content'), options=('the mean and variance is the same regardless of whi…"
      ]
     },
     "metadata": {},
     "output_type": "display_data"
    },
    {
     "data": {
      "application/vnd.jupyter.widget-view+json": {
       "model_id": "4d2dee5df01e468e911cd9b6ebe34e46",
       "version_major": 2,
       "version_minor": 0
      },
      "text/plain": [
       "Button(button_style='success', description='Save your answer!', style=ButtonStyle())"
      ]
     },
     "metadata": {},
     "output_type": "display_data"
    },
    {
     "data": {
      "application/vnd.jupyter.widget-view+json": {
       "model_id": "5d16e10b8eeb44afbb6b21de7ae23afd",
       "version_major": 2,
       "version_minor": 0
      },
      "text/plain": [
       "Output()"
      ]
     },
     "metadata": {},
     "output_type": "display_data"
    }
   ],
   "source": [
    "# Run this cell to submit your answer\n",
    "utils.exercise_10()"
   ]
  },
  {
   "cell_type": "markdown",
   "id": "f8a1a8a3",
   "metadata": {},
   "source": [
    "## Exercise 11:\n",
    "\n",
    "Given a n-sided dice (could be fair or not). You throw it twice and record the sum (there is no dependance between the throws). If you are only given the histogram of the sums can you use it to know which are the probabilities of the dice landing on each side?\n",
    "\n",
    "In other words, if you are provided with only the histogram of the sums like this one:\n",
    "<td> <img src=\"./images/hist_sum_6_side.png\" style=\"height: 300px;\"/> </td>\n",
    "\n",
    "Could you use it to know the probabilities of the dice landing on each side? Which will be equivalent to finding this histogram:\n",
    "<img src=\"./images/fair_dice.png\" style=\"height: 300px;\"/>\n"
   ]
  },
  {
   "cell_type": "code",
   "execution_count": null,
   "id": "b42149cf",
   "metadata": {},
   "outputs": [],
   "source": [
    "# You can use this cell for your calculations (not graded)\n",
    "\n"
   ]
  },
  {
   "cell_type": "code",
   "execution_count": 18,
   "id": "33a2e4d9",
   "metadata": {},
   "outputs": [
    {
     "data": {
      "application/vnd.jupyter.widget-view+json": {
       "model_id": "c1920380ef7548a59b933064c4428a91",
       "version_major": 2,
       "version_minor": 0
      },
      "text/plain": [
       "RadioButtons(layout=Layout(width='max-content'), options=('yes, but only if one of the sides is loaded', 'no, …"
      ]
     },
     "metadata": {},
     "output_type": "display_data"
    },
    {
     "data": {
      "application/vnd.jupyter.widget-view+json": {
       "model_id": "afc2cd7a612f4c61b43208f6fea5db4d",
       "version_major": 2,
       "version_minor": 0
      },
      "text/plain": [
       "Button(button_style='success', description='Save your answer!', style=ButtonStyle())"
      ]
     },
     "metadata": {},
     "output_type": "display_data"
    },
    {
     "data": {
      "application/vnd.jupyter.widget-view+json": {
       "model_id": "629e957de41747379f64a730a74b5b47",
       "version_major": 2,
       "version_minor": 0
      },
      "text/plain": [
       "Output()"
      ]
     },
     "metadata": {},
     "output_type": "display_data"
    }
   ],
   "source": [
    "# Run this cell to submit your answer\n",
    "utils.exercise_11()"
   ]
  },
  {
   "cell_type": "markdown",
   "id": "1635ca7c",
   "metadata": {},
   "source": [
    "## Before Submitting Your Assignment\n",
    "\n",
    "Run the next cell to check that you have answered all of the exercises"
   ]
  },
  {
   "cell_type": "code",
   "execution_count": 19,
   "id": "c6822278",
   "metadata": {},
   "outputs": [
    {
     "name": "stdout",
     "output_type": "stream",
     "text": [
      "All answers saved, you can submit the assignment for grading!\n"
     ]
    }
   ],
   "source": [
    "utils.check_submissions()"
   ]
  },
  {
   "cell_type": "markdown",
   "id": "5286008f",
   "metadata": {},
   "source": [
    "**Congratulations on finishing this assignment!**\n",
    "\n",
    "During this assignment you tested your knowledge on probability distributions, descriptive statistics and visual interpretation of these concepts. You had the choice to compute everything analytically or create simulations to assist you get the right answer. You probably also realized that some exercises could be answered without any computations just by looking at certain hidden queues that the visualizations revealed.\n",
    "\n",
    "**Keep up the good work!**\n"
   ]
  }
 ],
 "metadata": {
  "kernelspec": {
   "display_name": "Python 3 (ipykernel)",
   "language": "python",
   "name": "python3"
  },
  "language_info": {
   "codemirror_mode": {
    "name": "ipython",
    "version": 3
   },
   "file_extension": ".py",
   "mimetype": "text/x-python",
   "name": "python",
   "nbconvert_exporter": "python",
   "pygments_lexer": "ipython3",
   "version": "3.10.11"
  }
 },
 "nbformat": 4,
 "nbformat_minor": 5
}
